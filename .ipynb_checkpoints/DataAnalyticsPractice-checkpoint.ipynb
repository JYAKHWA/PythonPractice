{
 "cells": [
  {
   "cell_type": "markdown",
   "id": "f7ae7db6-3306-409e-80ea-18f51cb857ce",
   "metadata": {
    "tags": []
   },
   "source": [
    "##### For Loops"
   ]
  },
  {
   "cell_type": "code",
   "execution_count": 1,
   "id": "e24cefb8-4a37-4134-ae47-6dd6441ba911",
   "metadata": {
    "tags": []
   },
   "outputs": [
    {
     "name": "stdout",
     "output_type": "stream",
     "text": [
      "1\n",
      "2\n",
      "3\n",
      "4\n",
      "5\n"
     ]
    }
   ],
   "source": [
    "# For Loops\n",
    "\n",
    "digits = [ 1, 2, 3, 4, 5 ]\n",
    "for number in digits:\n",
    "    print (number)"
   ]
  },
  {
   "cell_type": "code",
   "execution_count": 2,
   "id": "c9757e13-79cb-4ab8-a991-2f5af021e043",
   "metadata": {
    "tags": []
   },
   "outputs": [
    {
     "name": "stdout",
     "output_type": "stream",
     "text": [
      "Well Done!\n",
      "Well Done!\n",
      "Well Done!\n",
      "Well Done!\n",
      "Well Done!\n"
     ]
    }
   ],
   "source": [
    "for number in digits:\n",
    "    print ('Well Done!')  # Iterating through numbers to print them Well Done"
   ]
  },
  {
   "cell_type": "code",
   "execution_count": 3,
   "id": "2f16e185-e235-4218-8191-e44388d008cf",
   "metadata": {
    "tags": []
   },
   "outputs": [
    {
     "name": "stdout",
     "output_type": "stream",
     "text": [
      "2\n",
      "4\n",
      "6\n",
      "8\n",
      "10\n"
     ]
    }
   ],
   "source": [
    "for anything in digits:\n",
    "    print (anything + anything) # Assigning values to numbers and adding them in loops"
   ]
  },
  {
   "cell_type": "code",
   "execution_count": 4,
   "id": "bbb03b6e-cef2-49e2-8262-992a246aa475",
   "metadata": {
    "tags": []
   },
   "outputs": [
    {
     "name": "stdout",
     "output_type": "stream",
     "text": [
      "Nisha Puri\n",
      "5\n",
      "['Vanilla', 'Chocolate', 'Milk Chocolate Cream']\n"
     ]
    }
   ],
   "source": [
    "# Dictionary\n",
    "\n",
    "ice_cream = { 'name': 'Nisha Puri', 'intake weekly': 5, 'fav ice_cream': ['Vanilla', 'Chocolate', 'Milk Chocolate Cream'] }\n",
    "for cream in ice_cream.values():    # call all values\n",
    "    print (cream)"
   ]
  },
  {
   "cell_type": "code",
   "execution_count": 5,
   "id": "a0f8f45f-d920-4833-bb14-a08310c50024",
   "metadata": {},
   "outputs": [
    {
     "name": "stdout",
     "output_type": "stream",
     "text": [
      "name\n",
      "intake weekly\n",
      "fav ice_cream\n"
     ]
    }
   ],
   "source": [
    "for key in ice_cream.keys ():\n",
    "    print (key)"
   ]
  },
  {
   "cell_type": "code",
   "execution_count": 6,
   "id": "d7553bd5-1a7c-4d3e-a8f2-9d9db1ac835c",
   "metadata": {
    "tags": []
   },
   "outputs": [
    {
     "name": "stdout",
     "output_type": "stream",
     "text": [
      "Nisha Puri\n",
      "5\n",
      "['Vanilla', 'Chocolate', 'Milk Chocolate Cream']\n"
     ]
    }
   ],
   "source": [
    "for value in ice_cream.values ():\n",
    "    print (value)"
   ]
  },
  {
   "cell_type": "code",
   "execution_count": 7,
   "id": "889d11dd-768d-4e1e-8ada-614a21e45d48",
   "metadata": {
    "tags": []
   },
   "outputs": [
    {
     "name": "stdout",
     "output_type": "stream",
     "text": [
      "name ->->->-> Nisha Puri\n",
      "intake weekly ->->->-> 5\n",
      "fav ice_cream ->->->-> ['Vanilla', 'Chocolate', 'Milk Chocolate Cream']\n"
     ]
    }
   ],
   "source": [
    "for key, value in ice_cream.items():\n",
    "    print (key, '->->->->', value)"
   ]
  },
  {
   "cell_type": "markdown",
   "id": "97d1effd-6e91-43e3-8d84-112da7127914",
   "metadata": {},
   "source": [
    "##### Nested For Loops"
   ]
  },
  {
   "cell_type": "code",
   "execution_count": 8,
   "id": "e230a613-4e97-42a7-9105-e92122f65706",
   "metadata": {},
   "outputs": [
    {
     "name": "stdout",
     "output_type": "stream",
     "text": [
      "Vanilla topped with Fudge Cake\n",
      "Vanilla topped with Oreos\n",
      "Vanilla topped with Marshmellows\n",
      "Chocolate topped with Fudge Cake\n",
      "Chocolate topped with Oreos\n",
      "Chocolate topped with Marshmellows\n",
      "Milk Chocolate Cream topped with Fudge Cake\n",
      "Milk Chocolate Cream topped with Oreos\n",
      "Milk Chocolate Cream topped with Marshmellows\n"
     ]
    }
   ],
   "source": [
    "flavours = [ 'Vanilla', 'Chocolate', 'Milk Chocolate Cream' ]\n",
    "toppings = [ 'Fudge Cake', 'Oreos', 'Marshmellows' ]\n",
    "\n",
    "#For Loops\n",
    "\n",
    "for first in flavours:\n",
    "    for second in toppings:\n",
    "        print (first, 'topped with', second)"
   ]
  },
  {
   "cell_type": "markdown",
   "id": "6b2ce6d9-6b07-4e7d-b29e-6f4fdf97d8ce",
   "metadata": {},
   "source": [
    "#### While Loop\n",
    "##### While only works for a test condition and ends after the condition no longer match, unlike for that iterates sequentially"
   ]
  },
  {
   "cell_type": "code",
   "execution_count": 9,
   "id": "7abd6005-36a1-40be-b38e-a1d015f839c9",
   "metadata": {
    "tags": []
   },
   "outputs": [
    {
     "name": "stdout",
     "output_type": "stream",
     "text": [
      "10\n",
      "11\n",
      "12\n",
      "13\n",
      "14\n",
      "15\n",
      "16\n",
      "17\n",
      "18\n",
      "19\n"
     ]
    }
   ],
   "source": [
    "digit = 10\n",
    "\n",
    "while digit < 20:\n",
    "    print (digit)\n",
    "    digit = digit + 1"
   ]
  },
  {
   "cell_type": "code",
   "execution_count": 10,
   "id": "9adc4249-eaf8-4ed3-969c-a95d351ab0eb",
   "metadata": {
    "tags": []
   },
   "outputs": [
    {
     "name": "stdout",
     "output_type": "stream",
     "text": [
      "10\n",
      "11\n",
      "12\n",
      "13\n",
      "14\n",
      "15\n"
     ]
    }
   ],
   "source": [
    "digit = 10   # Break stops the loop, but continues if the consdition is false\n",
    "\n",
    "while digit < 20:\n",
    "    print (digit)\n",
    "    if digit == 15:\n",
    "        break\n",
    "    digit = digit + 1"
   ]
  },
  {
   "cell_type": "code",
   "execution_count": 11,
   "id": "3f8d70da-258a-4872-9246-3184c5a91c95",
   "metadata": {
    "tags": []
   },
   "outputs": [
    {
     "name": "stdout",
     "output_type": "stream",
     "text": [
      "10\n",
      "11\n",
      "12\n",
      "13\n",
      "14\n",
      "15\n"
     ]
    }
   ],
   "source": [
    "digit2 = 10   # Break with elif\n",
    "while digit2 < 20:\n",
    "    print (digit2)\n",
    "    if digit2 == 15:\n",
    "        break\n",
    "    digit2 = digit2 + 1\n",
    "else:\n",
    "    print ('INVALID')\n",
    "    "
   ]
  },
  {
   "cell_type": "code",
   "execution_count": 12,
   "id": "f63e7e06-9027-47c1-b4bb-34d0f3529923",
   "metadata": {
    "tags": []
   },
   "outputs": [
    {
     "name": "stdout",
     "output_type": "stream",
     "text": [
      "11\n",
      "12\n",
      "13\n",
      "14\n",
      "16\n",
      "17\n",
      "18\n",
      "19\n",
      "20\n",
      "INVALID\n"
     ]
    }
   ],
   "source": [
    "digit2 = 10   # continue with elif, infinity, thus code shifted to the top\n",
    "while digit2 < 20:\n",
    "    digit2 = digit2 + 1\n",
    "    \n",
    "    if digit2 == 15:\n",
    "        continue\n",
    "    print (digit2)\n",
    "else:\n",
    "    print ('INVALID')\n",
    "    "
   ]
  },
  {
   "cell_type": "markdown",
   "id": "6b260200-e92c-4cd3-a427-993644bc3408",
   "metadata": {},
   "source": [
    "#### Functions"
   ]
  },
  {
   "cell_type": "code",
   "execution_count": 13,
   "id": "37acce2d-d162-4ee5-a28a-59d0f25837d3",
   "metadata": {
    "tags": []
   },
   "outputs": [
    {
     "name": "stdout",
     "output_type": "stream",
     "text": [
      "Nisha Puri\n"
     ]
    }
   ],
   "source": [
    "def example_func ():\n",
    "    print ('Nisha Puri')\n",
    "\n",
    "example_func ()"
   ]
  },
  {
   "cell_type": "code",
   "execution_count": 14,
   "id": "8fdf5675-7c9d-43bd-a1ff-58fb0ace7b66",
   "metadata": {
    "tags": []
   },
   "outputs": [
    {
     "name": "stdout",
     "output_type": "stream",
     "text": [
      "100\n"
     ]
    }
   ],
   "source": [
    "def squared_num (rand_num):\n",
    "    print (rand_num ** 2)\n",
    "\n",
    "squared_num (10)"
   ]
  },
  {
   "cell_type": "code",
   "execution_count": 15,
   "id": "5ee77af9-47a1-485b-9c9c-c6e6f369e8ba",
   "metadata": {
    "tags": []
   },
   "outputs": [
    {
     "name": "stdout",
     "output_type": "stream",
     "text": [
      "125\n"
     ]
    }
   ],
   "source": [
    "#Let the user enter the number and power desired\n",
    "def user_squared_num (user_num, power):\n",
    "    print (user_num ** power)\n",
    "    \n",
    "\n",
    "user_squared_num (5, 3)"
   ]
  },
  {
   "cell_type": "code",
   "execution_count": 16,
   "id": "bb8e0603-ac9e-4c49-ae0b-296507822e11",
   "metadata": {
    "tags": []
   },
   "outputs": [
    {
     "name": "stdout",
     "output_type": "stream",
     "text": [
      "2\n"
     ]
    }
   ],
   "source": [
    "def number_args (*args):   # Print object 0 and 1 multipled\n",
    "    print (args [0] * args [1])\n",
    "\n",
    "number_args (1,2,3,4,5)"
   ]
  },
  {
   "cell_type": "code",
   "execution_count": 17,
   "id": "799ef0fd-c93d-462b-b8f6-9d1f1de0cfda",
   "metadata": {
    "tags": []
   },
   "outputs": [
    {
     "name": "stdout",
     "output_type": "stream",
     "text": [
      "2\n"
     ]
    }
   ],
   "source": [
    "tuples = (1,2,3,4,5)\n",
    "\n",
    "def args_multi (*args):\n",
    "    print (args [0] * args [1])\n",
    "\n",
    "args_multi (*tuples)"
   ]
  },
  {
   "cell_type": "code",
   "execution_count": 18,
   "id": "811297a2-40af-4881-a42b-6b16c760738a",
   "metadata": {
    "tags": []
   },
   "outputs": [
    {
     "name": "stdout",
     "output_type": "stream",
     "text": [
      "My number is: 12345 ||||| & My other number is: 678910\n"
     ]
    }
   ],
   "source": [
    "def nsa_keyword_args (**numbers):\n",
    "    print ('My number is: ' + numbers ['integer'] + ' ||||| & My other number is: ' + numbers ['integer2'])\n",
    "    \n",
    "nsa_keyword_args (integer = '12345', integer2 = '678910')"
   ]
  },
  {
   "cell_type": "markdown",
   "id": "8d29b03c-24ba-406c-a33f-3971f7f37920",
   "metadata": {},
   "source": [
    "#### Converting Data types"
   ]
  },
  {
   "cell_type": "code",
   "execution_count": 19,
   "id": "a742bf7e-5960-451a-ac44-d40208fbbb64",
   "metadata": {
    "tags": []
   },
   "outputs": [
    {
     "name": "stdout",
     "output_type": "stream",
     "text": [
      "200\n"
     ]
    }
   ],
   "source": [
    "general = 100\n",
    "string = '100'\n",
    "addition = general + int(string)  #string converted to int\n",
    "print (addition)"
   ]
  },
  {
   "cell_type": "code",
   "execution_count": 20,
   "id": "9366bb0b-23b4-4b39-803e-87329782174b",
   "metadata": {
    "tags": []
   },
   "outputs": [
    {
     "name": "stdout",
     "output_type": "stream",
     "text": [
      "(1, 2, 3, 4, 5)\n"
     ]
    }
   ],
   "source": [
    "lists = [1,2,3,4,5]\n",
    "tupled = tuple (lists)\n",
    "print (tupled)"
   ]
  },
  {
   "cell_type": "code",
   "execution_count": 21,
   "id": "728f8080-8275-4359-bf62-fe392b4743bd",
   "metadata": {
    "tags": []
   },
   "outputs": [
    {
     "name": "stdout",
     "output_type": "stream",
     "text": [
      "{1, 2, 3, 4, 5, 7}\n"
     ]
    }
   ],
   "source": [
    "#Set only takes unique values and thus changes the values as well.\n",
    "listed = [1,2,3,4,5,2,5,2,1,7,4,5]\n",
    "set_listed = set (listed)\n",
    "print (set_listed)"
   ]
  },
  {
   "cell_type": "code",
   "execution_count": 22,
   "id": "7964e95f-aab4-420d-8b9c-251b46ed329a",
   "metadata": {
    "tags": []
   },
   "outputs": [
    {
     "name": "stdout",
     "output_type": "stream",
     "text": [
      "dict_items([('Name', 'Nisha Puri'), ('Age', 23), ('Relationship', 'Wife')])\n",
      "dict_keys(['Name', 'Age', 'Relationship'])\n",
      "dict_values(['Nisha Puri', 23, 'Wife'])\n"
     ]
    }
   ],
   "source": [
    "dict_var = { 'Name' :  'Nisha Puri', 'Age' : 23, 'Relationship' : 'Wife' }\n",
    "\n",
    "print (dict_var.items() )\n",
    "print (dict_var.keys () )\n",
    "print (dict_var.values () )"
   ]
  },
  {
   "cell_type": "code",
   "execution_count": 23,
   "id": "5187e98c-7564-4f36-9f35-b1bab08c2644",
   "metadata": {
    "tags": []
   },
   "outputs": [
    {
     "data": {
      "text/plain": [
       "['Name', 'Age', 'Relationship']"
      ]
     },
     "execution_count": 23,
     "metadata": {},
     "output_type": "execute_result"
    }
   ],
   "source": [
    "#convert keys to list\n",
    "list (dict_var.keys () )"
   ]
  },
  {
   "cell_type": "code",
   "execution_count": 24,
   "id": "91d4cec4-1365-422d-acfa-841441d22459",
   "metadata": {
    "tags": []
   },
   "outputs": [
    {
     "data": {
      "text/plain": [
       "{' ',\n",
       " '.',\n",
       " 'I',\n",
       " 'a',\n",
       " 'c',\n",
       " 'd',\n",
       " 'e',\n",
       " 'g',\n",
       " 'h',\n",
       " 'i',\n",
       " 'l',\n",
       " 'n',\n",
       " 'o',\n",
       " 'r',\n",
       " 't',\n",
       " 'v'}"
      ]
     },
     "execution_count": 24,
     "metadata": {},
     "output_type": "execute_result"
    }
   ],
   "source": [
    "# long strings\n",
    "long_strings = 'I love dancing in the rain.'\n",
    "set (long_strings)"
   ]
  },
  {
   "cell_type": "markdown",
   "id": "83e24aaa-3fab-4ffe-8f5c-d051d5d75a47",
   "metadata": {},
   "source": [
    "#### Building the BMI Calculator:"
   ]
  },
  {
   "cell_type": "code",
   "execution_count": 25,
   "id": "85227585-f1ea-4880-920b-55fd98623765",
   "metadata": {
    "tags": []
   },
   "outputs": [
    {
     "name": "stdin",
     "output_type": "stream",
     "text": [
      "Enter Name. Nisha\n",
      " Enter weight in pounds!  158\n",
      "Enter height in inches!  54\n"
     ]
    },
    {
     "name": "stdout",
     "output_type": "stream",
     "text": [
      "38.09122085048011\n",
      "Nisha,You are severely obese!\n"
     ]
    }
   ],
   "source": [
    " # INPUT FROM USER\n",
    "name = input ( 'Enter Name.' )\n",
    "    \n",
    "weight = int ( input (' Enter weight in pounds! '))\n",
    "\n",
    "height = int (input ('Enter height in inches! '))\n",
    "\n",
    "BMI = ( weight * 703 ) / ( height * height )\n",
    "print (BMI)\n",
    "if BMI > 0:\n",
    "    if ( BMI < 18.5 ):\n",
    "        print ( name +  ',You are underweight!' )\n",
    "    elif (BMI <= 24.9):\n",
    "        print ( name +  ',You are normal weight! ' )\n",
    "    elif (BMI < 34.9):\n",
    "        print ( name +  ',You are obese! ' )\n",
    "    elif (BMI < 39.9):\n",
    "        print ( name +  ',You are severely obese!' )\n",
    "    else:\n",
    "        print ( name +  ',You are too much obese!' )\n",
    "else:\n",
    "    print ('Invalid Input')"
   ]
  },
  {
   "cell_type": "markdown",
   "id": "5aa6142c-82fe-402b-9c99-fb6156f78b79",
   "metadata": {},
   "source": [
    "#### Automatic File Sorter"
   ]
  },
  {
   "cell_type": "code",
   "execution_count": 26,
   "id": "e5d5561d-ef43-40c9-947f-5dae2bdc2f65",
   "metadata": {},
   "outputs": [],
   "source": [
    "# Building an Automated File Sorter in File Explorer:"
   ]
  },
  {
   "cell_type": "code",
   "execution_count": 38,
   "id": "951e5ab6-7473-48b1-8aa5-7a14eea496e5",
   "metadata": {},
   "outputs": [],
   "source": [
    "import os, shutil       # os for OPErating System, shutil for file sorting"
   ]
  },
  {
   "cell_type": "code",
   "execution_count": 39,
   "id": "686e7440-129f-4904-8805-8ece1d10717c",
   "metadata": {},
   "outputs": [],
   "source": [
    "pathway = \"D:/FileSorterPythonExample/\"    #path of the directory to sort the folders, add r to the front to convert to raw string, if this doesnt work\n",
    "\n",
    "# backslashes changed to forward slashes /"
   ]
  },
  {
   "cell_type": "code",
   "execution_count": 40,
   "id": "6f216c3f-dd64-4aab-9fab-cc2e614622bc",
   "metadata": {},
   "outputs": [
    {
     "data": {
      "text/plain": [
       "'D:/FileSorterPythonExample/'"
      ]
     },
     "execution_count": 40,
     "metadata": {},
     "output_type": "execute_result"
    }
   ],
   "source": [
    "pathway"
   ]
  },
  {
   "cell_type": "code",
   "execution_count": 41,
   "id": "17443c64-69c0-474d-b0c8-a122b1b78131",
   "metadata": {},
   "outputs": [
    {
     "data": {
      "text/plain": [
       "['CSV Files', 'Excel Files', 'Image Files', 'Text Files', 'Word Files']"
      ]
     },
     "execution_count": 41,
     "metadata": {},
     "output_type": "execute_result"
    }
   ],
   "source": [
    "# check the directory files\n",
    "files = os.listdir (pathway)\n",
    "files"
   ]
  },
  {
   "cell_type": "code",
   "execution_count": 42,
   "id": "e45f3084-8625-4788-8435-e064722000f2",
   "metadata": {},
   "outputs": [],
   "source": [
    "#os.path.exists (pathway + 'csv files')        #hardcoding manually to check if folder csv files exists"
   ]
  },
  {
   "cell_type": "code",
   "execution_count": 43,
   "id": "3469bd3c-986a-4353-afeb-251005a9b6a9",
   "metadata": {},
   "outputs": [],
   "source": [
    "folder_names = [ 'Excel Files', 'CSV Files', 'Word Files', 'Image Files', 'Text Files' ]\n",
    "\n",
    "for loop in range (0,5):         # input till 1 more object from list\n",
    "   if not os.path.exists (pathway + folder_names [loop ] ):\n",
    "        os.makedirs ( pathway + folder_names [loop] )"
   ]
  },
  {
   "cell_type": "code",
   "execution_count": 44,
   "id": "06fbb6ee-44fd-46a5-8b90-c2a7d92e21cc",
   "metadata": {},
   "outputs": [],
   "source": [
    "# Now, check each file type to sort them to respective folders created.\n",
    "\n",
    "for file in files:\n",
    "    if \".csv\" in file and not os.path.exists (pathway + \"CSV Files/\" + file):\n",
    "        shutil.move (pathway + file , pathway + \"CSV Files/\" + file ) # specify original and new path\n",
    "    elif \".xlsx\" in file and not os.path.exists (pathway + \"Excel Files/\" + file):\n",
    "        shutil.move (pathway + file , pathway + \"Excel Files/\" + file )\n",
    "    elif \".docx\" in file and not os.path.exists (pathway + \"Word Files/\" + file):\n",
    "        shutil.move (pathway + file , pathway + \"Word Files/\" + file )\n",
    "    elif \".txt\" in file and not os.path.exists (pathway + \"Text Files/\" + file):\n",
    "        shutil.move (pathway + file , pathway + \"Text Files/\" + file )\n",
    "    elif \".png\" in file and not os.path.exists (pathway + \"Image Files/\" + file):\n",
    "        shutil.move (pathway + file , pathway + \"Image Files/\" + file )\n"
   ]
  },
  {
   "cell_type": "markdown",
   "id": "476e83b0-8258-4230-bbb5-144eca54db98",
   "metadata": {},
   "source": [
    "##### Pandas "
   ]
  },
  {
   "cell_type": "code",
   "execution_count": 2,
   "id": "6e96f8f4-4214-4005-baa6-31b468c3dd7f",
   "metadata": {
    "tags": []
   },
   "outputs": [],
   "source": [
    "import pandas as pd"
   ]
  },
  {
   "cell_type": "code",
   "execution_count": 4,
   "id": "4fa13dd2-d728-4374-aa23-6026daf34d43",
   "metadata": {
    "tags": []
   },
   "outputs": [
    {
     "data": {
      "text/html": [
       "<div>\n",
       "<style scoped>\n",
       "    .dataframe tbody tr th:only-of-type {\n",
       "        vertical-align: middle;\n",
       "    }\n",
       "\n",
       "    .dataframe tbody tr th {\n",
       "        vertical-align: top;\n",
       "    }\n",
       "\n",
       "    .dataframe thead th {\n",
       "        text-align: right;\n",
       "    }\n",
       "</style>\n",
       "<table border=\"1\" class=\"dataframe\">\n",
       "  <thead>\n",
       "    <tr style=\"text-align: right;\">\n",
       "      <th></th>\n",
       "      <th>Name</th>\n",
       "      <th>Age</th>\n",
       "    </tr>\n",
       "  </thead>\n",
       "  <tbody>\n",
       "    <tr>\n",
       "      <th>0</th>\n",
       "      <td>Sanjay</td>\n",
       "      <td>32</td>\n",
       "    </tr>\n",
       "    <tr>\n",
       "      <th>1</th>\n",
       "      <td>Nisha</td>\n",
       "      <td>27</td>\n",
       "    </tr>\n",
       "    <tr>\n",
       "      <th>2</th>\n",
       "      <td>Krisha</td>\n",
       "      <td>3</td>\n",
       "    </tr>\n",
       "    <tr>\n",
       "      <th>3</th>\n",
       "      <td>Kristina</td>\n",
       "      <td>1</td>\n",
       "    </tr>\n",
       "  </tbody>\n",
       "</table>\n",
       "</div>"
      ],
      "text/plain": [
       "       Name  Age\n",
       "0    Sanjay   32\n",
       "1     Nisha   27\n",
       "2    Krisha    3\n",
       "3  Kristina    1"
      ]
     },
     "execution_count": 4,
     "metadata": {},
     "output_type": "execute_result"
    }
   ],
   "source": [
    "data = { 'Name' : ['Sanjay', 'Nisha', 'Krisha', 'Kristina'], 'Age' : [32, 27, 3, 1] }\n",
    "df = pd.DataFrame (data)\n",
    "df"
   ]
  },
  {
   "cell_type": "code",
   "execution_count": 10,
   "id": "596b6451-4131-4bb1-adbc-9cdc389fee8f",
   "metadata": {},
   "outputs": [
    {
     "data": {
      "text/html": [
       "<div>\n",
       "<style scoped>\n",
       "    .dataframe tbody tr th:only-of-type {\n",
       "        vertical-align: middle;\n",
       "    }\n",
       "\n",
       "    .dataframe tbody tr th {\n",
       "        vertical-align: top;\n",
       "    }\n",
       "\n",
       "    .dataframe thead th {\n",
       "        text-align: right;\n",
       "    }\n",
       "</style>\n",
       "<table border=\"1\" class=\"dataframe\">\n",
       "  <thead>\n",
       "    <tr style=\"text-align: right;\">\n",
       "      <th></th>\n",
       "      <th>Name</th>\n",
       "      <th>Age</th>\n",
       "    </tr>\n",
       "  </thead>\n",
       "  <tbody>\n",
       "    <tr>\n",
       "      <th>0</th>\n",
       "      <td>Nisha</td>\n",
       "      <td>31</td>\n",
       "    </tr>\n",
       "    <tr>\n",
       "      <th>1</th>\n",
       "      <td>Sanjay</td>\n",
       "      <td>26</td>\n",
       "    </tr>\n",
       "    <tr>\n",
       "      <th>2</th>\n",
       "      <td>Krisha</td>\n",
       "      <td>1</td>\n",
       "    </tr>\n",
       "  </tbody>\n",
       "</table>\n",
       "</div>"
      ],
      "text/plain": [
       "     Name Age\n",
       "0   Nisha  31\n",
       "1  Sanjay  26\n",
       "2  Krisha   1"
      ]
     },
     "execution_count": 10,
     "metadata": {},
     "output_type": "execute_result"
    }
   ],
   "source": [
    "# Inserting null values\n",
    "\n",
    "dic = { 'Name': ['Nisha', 'Sanjay', 'Krisha'], 'Age': ['31', '26', '1'] }\n",
    "df = pd.DataFrame (dic) \n",
    "df"
   ]
  },
  {
   "cell_type": "code",
   "execution_count": 11,
   "id": "6d3ae1b6-2597-4821-8ba5-052b82313741",
   "metadata": {
    "tags": []
   },
   "outputs": [
    {
     "data": {
      "text/html": [
       "<div>\n",
       "<style scoped>\n",
       "    .dataframe tbody tr th:only-of-type {\n",
       "        vertical-align: middle;\n",
       "    }\n",
       "\n",
       "    .dataframe tbody tr th {\n",
       "        vertical-align: top;\n",
       "    }\n",
       "\n",
       "    .dataframe thead th {\n",
       "        text-align: right;\n",
       "    }\n",
       "</style>\n",
       "<table border=\"1\" class=\"dataframe\">\n",
       "  <thead>\n",
       "    <tr style=\"text-align: right;\">\n",
       "      <th></th>\n",
       "      <th>a</th>\n",
       "      <th>b</th>\n",
       "      <th>c</th>\n",
       "    </tr>\n",
       "  </thead>\n",
       "  <tbody>\n",
       "    <tr>\n",
       "      <th>Sanjay</th>\n",
       "      <td>1</td>\n",
       "      <td>2</td>\n",
       "      <td>NaN</td>\n",
       "    </tr>\n",
       "    <tr>\n",
       "      <th>Nisha</th>\n",
       "      <td>5</td>\n",
       "      <td>10</td>\n",
       "      <td>15.0</td>\n",
       "    </tr>\n",
       "  </tbody>\n",
       "</table>\n",
       "</div>"
      ],
      "text/plain": [
       "        a   b     c\n",
       "Sanjay  1   2   NaN\n",
       "Nisha   5  10  15.0"
      ]
     },
     "execution_count": 11,
     "metadata": {},
     "output_type": "execute_result"
    }
   ],
   "source": [
    "data = [ {'a': 1, 'b': 2}, {'a': 5, 'b': 10, 'c': 15} ]\n",
    "df = pd.DataFrame (data, index = ['Sanjay', 'Nisha'] )\n",
    "df"
   ]
  },
  {
   "cell_type": "code",
   "execution_count": 12,
   "id": "7bb832c9-087b-4d5b-9c12-4510747ad4d7",
   "metadata": {
    "tags": []
   },
   "outputs": [
    {
     "data": {
      "text/html": [
       "<div>\n",
       "<style scoped>\n",
       "    .dataframe tbody tr th:only-of-type {\n",
       "        vertical-align: middle;\n",
       "    }\n",
       "\n",
       "    .dataframe tbody tr th {\n",
       "        vertical-align: top;\n",
       "    }\n",
       "\n",
       "    .dataframe thead th {\n",
       "        text-align: right;\n",
       "    }\n",
       "</style>\n",
       "<table border=\"1\" class=\"dataframe\">\n",
       "  <thead>\n",
       "    <tr style=\"text-align: right;\">\n",
       "      <th></th>\n",
       "      <th>a</th>\n",
       "      <th>b</th>\n",
       "    </tr>\n",
       "  </thead>\n",
       "  <tbody>\n",
       "    <tr>\n",
       "      <th>Sanjay</th>\n",
       "      <td>1</td>\n",
       "      <td>2</td>\n",
       "    </tr>\n",
       "    <tr>\n",
       "      <th>Nisha</th>\n",
       "      <td>5</td>\n",
       "      <td>10</td>\n",
       "    </tr>\n",
       "  </tbody>\n",
       "</table>\n",
       "</div>"
      ],
      "text/plain": [
       "        a   b\n",
       "Sanjay  1   2\n",
       "Nisha   5  10"
      ]
     },
     "execution_count": 12,
     "metadata": {},
     "output_type": "execute_result"
    }
   ],
   "source": [
    "# Since c has a Nan value, lets only visualize a and b\n",
    "\n",
    "df = pd.DataFrame (data, index = ['Sanjay', 'Nisha'], columns = ['a', 'b'])\n",
    "df"
   ]
  },
  {
   "cell_type": "markdown",
   "id": "cf1d791d-97cc-4423-9227-1ed1cccd4a57",
   "metadata": {},
   "source": [
    "#### Pandas Visualization\n"
   ]
  },
  {
   "cell_type": "code",
   "execution_count": 13,
   "id": "c1835416-30b5-4137-b66d-20e8c64e95c9",
   "metadata": {
    "tags": []
   },
   "outputs": [],
   "source": [
    "import numpy as np"
   ]
  },
  {
   "cell_type": "code",
   "execution_count": 18,
   "id": "d31d0711-0ab3-449c-898b-01f404a75881",
   "metadata": {
    "tags": []
   },
   "outputs": [
    {
     "data": {
      "text/html": [
       "<div>\n",
       "<style scoped>\n",
       "    .dataframe tbody tr th:only-of-type {\n",
       "        vertical-align: middle;\n",
       "    }\n",
       "\n",
       "    .dataframe tbody tr th {\n",
       "        vertical-align: top;\n",
       "    }\n",
       "\n",
       "    .dataframe thead th {\n",
       "        text-align: right;\n",
       "    }\n",
       "</style>\n",
       "<table border=\"1\" class=\"dataframe\">\n",
       "  <thead>\n",
       "    <tr style=\"text-align: right;\">\n",
       "      <th></th>\n",
       "      <th>First</th>\n",
       "      <th>Second</th>\n",
       "      <th>Third</th>\n",
       "      <th>Fourth</th>\n",
       "    </tr>\n",
       "  </thead>\n",
       "  <tbody>\n",
       "    <tr>\n",
       "      <th>0</th>\n",
       "      <td>0.025058</td>\n",
       "      <td>0.730193</td>\n",
       "      <td>0.062578</td>\n",
       "      <td>0.579625</td>\n",
       "    </tr>\n",
       "    <tr>\n",
       "      <th>1</th>\n",
       "      <td>0.141191</td>\n",
       "      <td>0.529014</td>\n",
       "      <td>0.978082</td>\n",
       "      <td>0.999206</td>\n",
       "    </tr>\n",
       "    <tr>\n",
       "      <th>2</th>\n",
       "      <td>0.018996</td>\n",
       "      <td>0.286919</td>\n",
       "      <td>0.341786</td>\n",
       "      <td>0.444288</td>\n",
       "    </tr>\n",
       "    <tr>\n",
       "      <th>3</th>\n",
       "      <td>0.174704</td>\n",
       "      <td>0.687952</td>\n",
       "      <td>0.470453</td>\n",
       "      <td>0.156998</td>\n",
       "    </tr>\n",
       "    <tr>\n",
       "      <th>4</th>\n",
       "      <td>0.647397</td>\n",
       "      <td>0.155807</td>\n",
       "      <td>0.041649</td>\n",
       "      <td>0.393754</td>\n",
       "    </tr>\n",
       "    <tr>\n",
       "      <th>5</th>\n",
       "      <td>0.407000</td>\n",
       "      <td>0.724029</td>\n",
       "      <td>0.760229</td>\n",
       "      <td>0.512046</td>\n",
       "    </tr>\n",
       "    <tr>\n",
       "      <th>6</th>\n",
       "      <td>0.101833</td>\n",
       "      <td>0.111820</td>\n",
       "      <td>0.563753</td>\n",
       "      <td>0.404158</td>\n",
       "    </tr>\n",
       "    <tr>\n",
       "      <th>7</th>\n",
       "      <td>0.848150</td>\n",
       "      <td>0.920800</td>\n",
       "      <td>0.000706</td>\n",
       "      <td>0.874379</td>\n",
       "    </tr>\n",
       "    <tr>\n",
       "      <th>8</th>\n",
       "      <td>0.695858</td>\n",
       "      <td>0.717749</td>\n",
       "      <td>0.785549</td>\n",
       "      <td>0.287628</td>\n",
       "    </tr>\n",
       "    <tr>\n",
       "      <th>9</th>\n",
       "      <td>0.837448</td>\n",
       "      <td>0.217940</td>\n",
       "      <td>0.453961</td>\n",
       "      <td>0.162838</td>\n",
       "    </tr>\n",
       "  </tbody>\n",
       "</table>\n",
       "</div>"
      ],
      "text/plain": [
       "      First    Second     Third    Fourth\n",
       "0  0.025058  0.730193  0.062578  0.579625\n",
       "1  0.141191  0.529014  0.978082  0.999206\n",
       "2  0.018996  0.286919  0.341786  0.444288\n",
       "3  0.174704  0.687952  0.470453  0.156998\n",
       "4  0.647397  0.155807  0.041649  0.393754\n",
       "5  0.407000  0.724029  0.760229  0.512046\n",
       "6  0.101833  0.111820  0.563753  0.404158\n",
       "7  0.848150  0.920800  0.000706  0.874379\n",
       "8  0.695858  0.717749  0.785549  0.287628\n",
       "9  0.837448  0.217940  0.453961  0.162838"
      ]
     },
     "execution_count": 18,
     "metadata": {},
     "output_type": "execute_result"
    }
   ],
   "source": [
    "# Plot creating random numbers\n",
    "\n",
    "#data = np.random (10, 4)\n",
    "df = pd.DataFrame ( np.random.rand(10,4), columns = ['First', 'Second', 'Third', 'Fourth'] )\n",
    "df"
   ]
  },
  {
   "cell_type": "code",
   "execution_count": 26,
   "id": "361bb66b-7b73-49c5-a70b-887d6d120d6c",
   "metadata": {
    "tags": []
   },
   "outputs": [
    {
     "data": {
      "text/plain": [
       "<Axes: >"
      ]
     },
     "execution_count": 26,
     "metadata": {},
     "output_type": "execute_result"
    },
    {
     "data": {
      "image/png": "[encoded data removed]",
      "text/plain": [
       "<Figure size 640x480 with 1 Axes>"
      ]
     },
     "metadata": {},
     "output_type": "display_data"
    }
   ],
   "source": [
    "df.plot.barh(stacked = True)"
   ]
  },
  {
   "cell_type": "code",
   "execution_count": 27,
   "id": "95781cb9-576b-44d9-b352-c8689eabd7a3",
   "metadata": {
    "tags": []
   },
   "outputs": [
    {
     "data": {
      "text/plain": [
       "<Axes: ylabel='Frequency'>"
      ]
     },
     "execution_count": 27,
     "metadata": {},
     "output_type": "execute_result"
    },
    {
     "data": {
      "image/png": "[encoded data removed]",
      "text/plain": [
       "<Figure size 640x480 with 1 Axes>"
      ]
     },
     "metadata": {},
     "output_type": "display_data"
    }
   ],
   "source": [
    "df.plot.hist()"
   ]
  },
  {
   "cell_type": "code",
   "execution_count": 28,
   "id": "4577e5d7-b4f3-45e6-b1bc-f46f566c940b",
   "metadata": {
    "tags": []
   },
   "outputs": [
    {
     "data": {
      "text/plain": [
       "<Axes: >"
      ]
     },
     "execution_count": 28,
     "metadata": {},
     "output_type": "execute_result"
    },
    {
     "data": {
      "image/png": "[encoded data removed]",
      "text/plain": [
       "<Figure size 640x480 with 1 Axes>"
      ]
     },
     "metadata": {},
     "output_type": "display_data"
    }
   ],
   "source": [
    "df.plot.box()"
   ]
  },
  {
   "cell_type": "code",
   "execution_count": 30,
   "id": "2628f805-c8df-4647-8a5b-feb85167938e",
   "metadata": {
    "tags": []
   },
   "outputs": [
    {
     "data": {
      "text/plain": [
       "<Axes: xlabel='First', ylabel='Second'>"
      ]
     },
     "execution_count": 30,
     "metadata": {},
     "output_type": "execute_result"
    },
    {
     "data": {
      "image/png": "[encoded data removed]",
      "text/plain": [
       "<Figure size 640x480 with 1 Axes>"
      ]
     },
     "metadata": {},
     "output_type": "display_data"
    }
   ],
   "source": [
    "df.plot.scatter (x = 'First', y = 'Second', color = 'k')"
   ]
  },
  {
   "cell_type": "markdown",
   "id": "dca0c66a-03cc-4803-a189-63471c985818",
   "metadata": {},
   "source": [
    "#### CONDITIONAL STATEMENTS"
   ]
  },
  {
   "cell_type": "markdown",
   "id": "9e43822e-9632-423d-8552-1ff7fc2229c1",
   "metadata": {},
   "source": [
    "##### If\\ If-Else"
   ]
  },
  {
   "cell_type": "code",
   "execution_count": 6,
   "id": "f4398443-d98c-4a97-86e0-33c9b508005a",
   "metadata": {
    "tags": []
   },
   "outputs": [
    {
     "name": "stdin",
     "output_type": "stream",
     "text": [
      "Please enter a number! 17\n"
     ]
    },
    {
     "name": "stdout",
     "output_type": "stream",
     "text": [
      "17 is Odd\n"
     ]
    }
   ],
   "source": [
    "number = int ( input ('Please enter a number!') )\n",
    "if number%2 == 0:\n",
    "    print (number , 'is an Even Number')\n",
    "else:\n",
    "    print (number, 'is Odd')"
   ]
  },
  {
   "cell_type": "markdown",
   "id": "1e66b994-02de-42c5-85b2-a3841bfb115d",
   "metadata": {},
   "source": [
    "##### Elif"
   ]
  },
  {
   "cell_type": "code",
   "execution_count": 22,
   "id": "7b6c7e25-43d5-4a42-a7b4-344ebe25c89b",
   "metadata": {
    "tags": []
   },
   "outputs": [
    {
     "name": "stdin",
     "output_type": "stream",
     "text": [
      "Please enter your marks 43\n"
     ]
    },
    {
     "name": "stdout",
     "output_type": "stream",
     "text": [
      "WELL DONE! You Passed.\n"
     ]
    }
   ],
   "source": [
    "# Enter MArks and check the PASSING\n",
    "\n",
    "marks = int (input ('Please enter your marks') )\n",
    "if marks < 40:\n",
    "    print ('Sorry! You failed.')\n",
    "elif marks >= 70 and marks <= 100:\n",
    "    print ('CONGRACTS! You have DISTINCTION.')\n",
    "elif marks >= 60 and marks <70:\n",
    "    print ('CONGRACTS! You have MERIT.')\n",
    "else:\n",
    "        print ('WELL DONE! You Passed.')\n"
   ]
  },
  {
   "cell_type": "markdown",
   "id": "2c423ad8-64c0-4e63-baa0-e341f25f83bc",
   "metadata": {},
   "source": [
    "##### Nested IF"
   ]
  },
  {
   "cell_type": "code",
   "execution_count": 31,
   "id": "47b82925-626f-4395-becf-2896eef0909a",
   "metadata": {
    "tags": []
   },
   "outputs": [
    {
     "name": "stdin",
     "output_type": "stream",
     "text": [
      "Please enter your age! 78\n"
     ]
    },
    {
     "name": "stdout",
     "output_type": "stream",
     "text": [
      "Sorry! You are no longer eligible for a license.\n"
     ]
    }
   ],
   "source": [
    "# Check driving license eligibility\n",
    "\n",
    "age = int ( input ('Please enter your age!') )\n",
    "\n",
    "if age >= 60:\n",
    "    print ('Sorry! You are no longer eligible for a license.')\n",
    "else:    \n",
    "    if age < 16:\n",
    "        print ('Sorry! Not not eligible yet.')\n",
    "    else:\n",
    "         print ('You are eligible.')"
   ]
  },
  {
   "cell_type": "code",
   "execution_count": 39,
   "id": "9d788bea-3688-403a-98c5-0b3131fd1ae0",
   "metadata": {
    "tags": []
   },
   "outputs": [
    {
     "name": "stdout",
     "output_type": "stream",
     "text": [
      " Nisha Puri\n",
      " is my wife\n",
      " and love of eternity. \n"
     ]
    }
   ],
   "source": [
    "# String\n",
    "\n",
    "triple = ''' Nisha Puri\n",
    " is my wife\n",
    " and love of eternity. '''\n",
    "#triple        #if this used gives \\n in line breaks\n",
    "print (triple)"
   ]
  },
  {
   "cell_type": "code",
   "execution_count": 40,
   "id": "c13ba53b-9cd6-487c-8f7e-93d9b349879c",
   "metadata": {
    "tags": []
   },
   "outputs": [
    {
     "name": "stdout",
     "output_type": "stream",
     "text": [
      " What's my name?, he asked. \n"
     ]
    }
   ],
   "source": [
    "## Strings\n",
    "example = ''' What's my name?, he asked. '''\n",
    "print (example)"
   ]
  },
  {
   "cell_type": "code",
   "execution_count": 41,
   "id": "fb590ba2-a7c2-46f3-9f1a-99043293aaae",
   "metadata": {
    "tags": []
   },
   "outputs": [
    {
     "name": "stdout",
     "output_type": "stream",
     "text": [
      " Whats's my name?, he asked. \n"
     ]
    }
   ],
   "source": [
    "example2 = \" Whats's my name?, he asked. \"\n",
    "print (example2)"
   ]
  },
  {
   "cell_type": "code",
   "execution_count": 42,
   "id": "3f8e2a3e-fa65-40df-ad6f-d4e414850d88",
   "metadata": {
    "tags": []
   },
   "outputs": [
    {
     "name": "stdout",
     "output_type": "stream",
     "text": [
      " They said, \"What's there?\" \n"
     ]
    }
   ],
   "source": [
    "example3 = ' They said, \"What\\'s there?\" '\n",
    "print (example3)"
   ]
  },
  {
   "cell_type": "code",
   "execution_count": null,
   "id": "83c1d648-0cbf-40a5-aa38-2be0f4a6315e",
   "metadata": {},
   "outputs": [],
   "source": []
  },
  {
   "cell_type": "code",
   "execution_count": null,
   "id": "02f4aa7b-7e8c-4c2b-ae66-3a1dd4b098ef",
   "metadata": {},
   "outputs": [],
   "source": []
  },
  {
   "cell_type": "code",
   "execution_count": null,
   "id": "d5390880-cbd1-43af-982b-5c36218939cb",
   "metadata": {},
   "outputs": [],
   "source": []
  }
 ],
 "metadata": {
  "kernelspec": {
   "display_name": "Python 3 (ipykernel)",
   "language": "python",
   "name": "python3"
  },
  "language_info": {
   "codemirror_mode": {
    "name": "ipython",
    "version": 3
   },
   "file_extension": ".py",
   "mimetype": "text/x-python",
   "name": "python",
   "nbconvert_exporter": "python",
   "pygments_lexer": "ipython3",
   "version": "3.9.0"
  }
 },
 "nbformat": 4,
 "nbformat_minor": 5
}
