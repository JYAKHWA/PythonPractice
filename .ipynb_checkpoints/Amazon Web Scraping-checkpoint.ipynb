{
 "cells": [
  {
   "cell_type": "markdown",
   "id": "e6063a16-0809-49b2-9ef5-b0a9d0b018ca",
   "metadata": {},
   "source": [
    "### AMAZON WEB SCRAPING:\n"
   ]
  },
  {
   "cell_type": "code",
   "execution_count": 1,
   "id": "5d3e57ef-0f9f-4367-b80c-671ef0302824",
   "metadata": {
    "tags": []
   },
   "outputs": [],
   "source": [
    "# Import Libraries\n",
    "\n",
    "from bs4 import BeautifulSoup\n",
    "import requests\n",
    "import datetime\n",
    "import time\n",
    "\n",
    "import smtplib\n",
    "\n",
    "import pandas as pd\n",
    "import csv\n",
    "import datetime"
   ]
  },
  {
   "cell_type": "code",
   "execution_count": 2,
   "id": "e52fb8e2-150f-41ce-ba8b-a50078732c01",
   "metadata": {},
   "outputs": [
    {
     "name": "stdout",
     "output_type": "stream",
     "text": [
      "Title: \n",
      "                   Ladies Belted Long Coat Womens Girls Winter Hooded Warm Jacket UK\n",
      "                  \n",
      "Price: \n",
      "                     £21.99\n",
      "                    \n",
      "Rating: \n",
      "                       3.4 out of 5 stars\n",
      "                      \n",
      "\n",
      "                  Brand: Generic\n",
      "                 \n"
     ]
    }
   ],
   "source": [
    "# Connect to Website and extract data from Amazon\n",
    "\n",
    "URL = ' https://www.amazon.co.uk/Ladies-Winter-Coat-Black-Size/dp/B08KH4NGMM/ref=sr_1_5?crid=TUM9142G51HK&keywords=coat%2Bfor%2Bwomen&qid=1679713932&sprefix=coat%2Bfor%2B%2Caps%2C87&sr=8-5&th=1 '\n",
    "\n",
    "# Get headers from http://httpbin.org/get\n",
    "headers =  {\"User-Agent\": \t\"Mozilla/5.0 (Windows NT 10.0; Win64; x64; rv:109.0) Gecko/20100101 Firefox/111.0\" } \n",
    "\n",
    "page = requests.get (URL, headers = headers)\n",
    "\n",
    "Soup1 = BeautifulSoup (page.content, \"html.parser\")\n",
    "#print (Soup1)\n",
    "\n",
    "Soup2 = BeautifulSoup (Soup1.prettify (), \"html.parser\" )                         #make Soup1 html in better formatting\n",
    "#print (Soup2)\n",
    "\n",
    "title = Soup2.find (id = 'productTitle').get_text ()                               #specify the title of the product to extract from html as the id is mentioned\n",
    "\n",
    "#price_span = Soup2.find ('div', attrs = {'class' : 'a-offscreen'})\n",
    "#price = price_span.text                                                          #specify the price of the product to extract from html from class as span has no id\n",
    "#print (price_span)\n",
    "\n",
    "price = Soup2.find ('span', attrs = {'class' : 'a-offscreen'}).get_text ()        # specify span and attributes since span class is given for price\n",
    "rating = Soup2.find ('span', attrs = {'class' : 'a-icon-alt'}).get_text ()\n",
    "brand = Soup2.find (id = 'bylineInfo').get_text ()\n",
    "\n",
    "print ('Title: ' + title)\n",
    "print ('Price: ' + price)\n",
    "print ('Rating: ' + rating)\n",
    "print (brand)\n"
   ]
  },
  {
   "cell_type": "code",
   "execution_count": 3,
   "id": "4855e4cb-dc25-4b17-a120-20d6fc3cce5f",
   "metadata": {},
   "outputs": [
    {
     "name": "stdout",
     "output_type": "stream",
     "text": [
      "Title: Ladies Belted Long Coat Womens Girls Winter Hooded Warm Jacket UK\n",
      "Price: 21.99\n",
      "Rating: 3.4 out of 5 stars\n",
      "Brand: Generic\n"
     ]
    }
   ],
   "source": [
    "# Clean and strip the extracted data\n",
    "\n",
    "title = title.strip ()\n",
    "price = price.strip ()[1:]           # all after 1st object, so that only numeric value is extracted\n",
    "rating = rating.strip ()\n",
    "brand = brand.strip ()\n",
    "\n",
    "print ('Title: ' + title)\n",
    "print ('Price: ' + price)\n",
    "print ('Rating: ' + rating)\n",
    "print (brand)\n"
   ]
  },
  {
   "cell_type": "code",
   "execution_count": 4,
   "id": "47927351-73ae-4f69-a04d-462247a18574",
   "metadata": {},
   "outputs": [
    {
     "name": "stdout",
     "output_type": "stream",
     "text": [
      "2023-03-28\n"
     ]
    }
   ],
   "source": [
    "# Show the date of data extraction\n",
    "\n",
    "date_extracted = datetime.date.today ()\n",
    "print (date_extracted)"
   ]
  },
  {
   "cell_type": "code",
   "execution_count": 5,
   "id": "d36cec95-45ac-4911-9489-5351446da405",
   "metadata": {},
   "outputs": [],
   "source": [
    "# Automate and append the data to extract to csv/excel \n",
    "\n",
    "header = ['Title', 'Price', 'Rating', 'Brand', 'Date']\n",
    "data = [title, price, rating, brand, date_extracted]\n",
    "#type(data)\n",
    "\n",
    "with open ('AWS_Dataset_Women_Coat.csv', 'w', newline = '', encoding = 'UTF8') as fill:          #w is write\n",
    "    writer = csv.writer (fill)\n",
    "    writer.writerow (header)\n",
    "    writer.writerow (data)"
   ]
  },
  {
   "cell_type": "code",
   "execution_count": 6,
   "id": "f47f119d-c15b-43df-a777-9b1da56dc689",
   "metadata": {
    "tags": []
   },
   "outputs": [
    {
     "name": "stdout",
     "output_type": "stream",
     "text": [
      "                                               Title  Price  \\\n",
      "0  Ladies Belted Long Coat Womens Girls Winter Ho...  21.99   \n",
      "\n",
      "               Rating           Brand        Date  \n",
      "0  3.4 out of 5 stars  Brand: Generic  2023-03-28  \n"
     ]
    }
   ],
   "source": [
    "# Using Pandas, retrieve the csv\n",
    "\n",
    "csv_df = pd.read_csv ('C:\\DataAnalytics\\AWS_Dataset_Women_Coat.csv')\n",
    "\n",
    "print (csv_df)"
   ]
  },
  {
   "cell_type": "code",
   "execution_count": null,
   "id": "e49a3fc6-d89c-479d-9913-afc1c31abb5a",
   "metadata": {},
   "outputs": [],
   "source": []
  },
  {
   "cell_type": "code",
   "execution_count": null,
   "id": "fb94bc51-9d79-48dc-9f7f-0fd6ca76431b",
   "metadata": {},
   "outputs": [],
   "source": []
  },
  {
   "cell_type": "code",
   "execution_count": null,
   "id": "69dd121b-9766-444d-a569-3fadb439e0ea",
   "metadata": {},
   "outputs": [],
   "source": []
  },
  {
   "cell_type": "code",
   "execution_count": null,
   "id": "ca8fbeee-687e-4d31-8f15-e7c1b4e760f2",
   "metadata": {},
   "outputs": [],
   "source": []
  },
  {
   "cell_type": "code",
   "execution_count": null,
   "id": "44575118-fc68-4c5d-9fa6-fa7ec4f2a4c0",
   "metadata": {},
   "outputs": [],
   "source": []
  },
  {
   "cell_type": "code",
   "execution_count": null,
   "id": "c7b2adb6-f3ae-4c92-8901-410d8ad98f94",
   "metadata": {},
   "outputs": [],
   "source": []
  },
  {
   "cell_type": "code",
   "execution_count": null,
   "id": "3de5da4e-6084-4d68-a76c-a8a3fdcff86d",
   "metadata": {},
   "outputs": [],
   "source": []
  }
 ],
 "metadata": {
  "kernelspec": {
   "display_name": "Python 3 (ipykernel)",
   "language": "python",
   "name": "python3"
  },
  "language_info": {
   "codemirror_mode": {
    "name": "ipython",
    "version": 3
   },
   "file_extension": ".py",
   "mimetype": "text/x-python",
   "name": "python",
   "nbconvert_exporter": "python",
   "pygments_lexer": "ipython3",
   "version": "3.9.0"
  }
 },
 "nbformat": 4,
 "nbformat_minor": 5
}
