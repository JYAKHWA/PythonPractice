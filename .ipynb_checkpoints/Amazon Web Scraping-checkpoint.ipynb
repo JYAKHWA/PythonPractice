{
 "cells": [
  {
   "cell_type": "markdown",
   "id": "e6063a16-0809-49b2-9ef5-b0a9d0b018ca",
   "metadata": {},
   "source": [
    "### AMAZON WEB SCRAPING:\n"
   ]
  },
  {
   "cell_type": "code",
   "execution_count": 8,
   "id": "5d3e57ef-0f9f-4367-b80c-671ef0302824",
   "metadata": {
    "tags": []
   },
   "outputs": [],
   "source": [
    "# Import Libraries\n",
    "\n",
    "from bs4 import BeautifulSoup\n",
    "import requests\n",
    "import datetime\n",
    "import time\n",
    "\n",
    "import smtplib\n"
   ]
  },
  {
   "cell_type": "code",
   "execution_count": 14,
   "id": "e52fb8e2-150f-41ce-ba8b-a50078732c01",
   "metadata": {},
   "outputs": [
    {
     "ename": "AttributeError",
     "evalue": "'NoneType' object has no attribute 'get_text'",
     "output_type": "error",
     "traceback": [
      "\u001b[1;31m---------------------------------------------------------------------------\u001b[0m",
      "\u001b[1;31mAttributeError\u001b[0m                            Traceback (most recent call last)",
      "Cell \u001b[1;32mIn[14], line 19\u001b[0m\n\u001b[0;32m     16\u001b[0m \u001b[38;5;66;03m#print (Soup2)\u001b[39;00m\n\u001b[0;32m     18\u001b[0m title \u001b[38;5;241m=\u001b[39m Soup2\u001b[38;5;241m.\u001b[39mfind (\u001b[38;5;28mid\u001b[39m \u001b[38;5;241m=\u001b[39m \u001b[38;5;124m'\u001b[39m\u001b[38;5;124mproductTitle\u001b[39m\u001b[38;5;124m'\u001b[39m)\u001b[38;5;241m.\u001b[39mget_text ()\n\u001b[1;32m---> 19\u001b[0m price \u001b[38;5;241m=\u001b[39m \u001b[43mSoup2\u001b[49m\u001b[38;5;241;43m.\u001b[39;49m\u001b[43mfind\u001b[49m\u001b[43m \u001b[49m\u001b[43m(\u001b[49m\u001b[38;5;28;43mid\u001b[39;49m\u001b[43m \u001b[49m\u001b[38;5;241;43m=\u001b[39;49m\u001b[43m \u001b[49m\u001b[38;5;124;43m'\u001b[39;49m\u001b[38;5;124;43ma-offscreen\u001b[39;49m\u001b[38;5;124;43m'\u001b[39;49m\u001b[43m)\u001b[49m\u001b[38;5;241;43m.\u001b[39;49m\u001b[43mget_text\u001b[49m ()\n\u001b[0;32m     21\u001b[0m \u001b[38;5;28mprint\u001b[39m (title)\n\u001b[0;32m     22\u001b[0m \u001b[38;5;28mprint\u001b[39m (price)\n",
      "\u001b[1;31mAttributeError\u001b[0m: 'NoneType' object has no attribute 'get_text'"
     ]
    }
   ],
   "source": [
    "# Connect to Website and extract data from Amazon\n",
    "\n",
    "URL = ' https://www.amazon.co.uk/Ladies-Winter-Coat-Black-Size/dp/B08KH4NGMM/ref=sr_1_5?crid=TUM9142G51HK&keywords=coat%2Bfor%2Bwomen&qid=1679713932&sprefix=coat%2Bfor%2B%2Caps%2C87&sr=8-5&th=1 '\n",
    "\n",
    "# Get headers from http://httpbin.org/get\n",
    "headers =  {\"User-Agent\": \t\"Mozilla/5.0 (Windows NT 10.0; Win64; x64; rv:109.0) Gecko/20100101 Firefox/111.0\" } \n",
    "\n",
    "page = requests.get (URL, headers = headers)\n",
    "\n",
    "Soup1 = BeautifulSoup (page.content, \"html.parser\")\n",
    "\n",
    "#print (Soup1)\n",
    "\n",
    "Soup2 = BeautifulSoup (Soup1.prettify (), \"html.parser\" )\n",
    "\n",
    "#print (Soup2)\n",
    "\n",
    "title = Soup2.find (id = 'productTitle').get_text ()\n",
    "price = Soup2.find (id = 'a-offscreen').get_text ()\n",
    "\n",
    "print (title)\n",
    "print (price)\n",
    "p"
   ]
  },
  {
   "cell_type": "code",
   "execution_count": null,
   "id": "4855e4cb-dc25-4b17-a120-20d6fc3cce5f",
   "metadata": {},
   "outputs": [],
   "source": []
  },
  {
   "cell_type": "code",
   "execution_count": null,
   "id": "d36cec95-45ac-4911-9489-5351446da405",
   "metadata": {},
   "outputs": [],
   "source": []
  },
  {
   "cell_type": "code",
   "execution_count": null,
   "id": "69dd121b-9766-444d-a569-3fadb439e0ea",
   "metadata": {},
   "outputs": [],
   "source": []
  },
  {
   "cell_type": "code",
   "execution_count": null,
   "id": "ca8fbeee-687e-4d31-8f15-e7c1b4e760f2",
   "metadata": {},
   "outputs": [],
   "source": []
  },
  {
   "cell_type": "code",
   "execution_count": null,
   "id": "44575118-fc68-4c5d-9fa6-fa7ec4f2a4c0",
   "metadata": {},
   "outputs": [],
   "source": []
  },
  {
   "cell_type": "code",
   "execution_count": null,
   "id": "c7b2adb6-f3ae-4c92-8901-410d8ad98f94",
   "metadata": {},
   "outputs": [],
   "source": []
  },
  {
   "cell_type": "code",
   "execution_count": null,
   "id": "3de5da4e-6084-4d68-a76c-a8a3fdcff86d",
   "metadata": {},
   "outputs": [],
   "source": []
  }
 ],
 "metadata": {
  "kernelspec": {
   "display_name": "Python 3 (ipykernel)",
   "language": "python",
   "name": "python3"
  },
  "language_info": {
   "codemirror_mode": {
    "name": "ipython",
    "version": 3
   },
   "file_extension": ".py",
   "mimetype": "text/x-python",
   "name": "python",
   "nbconvert_exporter": "python",
   "pygments_lexer": "ipython3",
   "version": "3.9.0"
  }
 },
 "nbformat": 4,
 "nbformat_minor": 5
}
