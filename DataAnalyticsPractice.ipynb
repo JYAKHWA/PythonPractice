{
 "cells": [
  {
   "cell_type": "markdown",
   "id": "f7ae7db6-3306-409e-80ea-18f51cb857ce",
   "metadata": {
    "tags": []
   },
   "source": [
    "##### For Loops"
   ]
  },
  {
   "cell_type": "code",
   "execution_count": 1,
   "id": "e24cefb8-4a37-4134-ae47-6dd6441ba911",
   "metadata": {
    "tags": []
   },
   "outputs": [
    {
     "name": "stdout",
     "output_type": "stream",
     "text": [
      "1\n",
      "2\n",
      "3\n",
      "4\n",
      "5\n"
     ]
    }
   ],
   "source": [
    "# For Loops\n",
    "\n",
    "digits = [ 1, 2, 3, 4, 5 ]\n",
    "for number in digits:\n",
    "    print (number)"
   ]
  },
  {
   "cell_type": "code",
   "execution_count": 2,
   "id": "c9757e13-79cb-4ab8-a991-2f5af021e043",
   "metadata": {
    "tags": []
   },
   "outputs": [
    {
     "name": "stdout",
     "output_type": "stream",
     "text": [
      "Well Done!\n",
      "Well Done!\n",
      "Well Done!\n",
      "Well Done!\n",
      "Well Done!\n"
     ]
    }
   ],
   "source": [
    "for number in digits:\n",
    "    print ('Well Done!')  # Iterating through numbers to print them Well Done"
   ]
  },
  {
   "cell_type": "code",
   "execution_count": 3,
   "id": "2f16e185-e235-4218-8191-e44388d008cf",
   "metadata": {
    "tags": []
   },
   "outputs": [
    {
     "name": "stdout",
     "output_type": "stream",
     "text": [
      "2\n",
      "4\n",
      "6\n",
      "8\n",
      "10\n"
     ]
    }
   ],
   "source": [
    "for anything in digits:\n",
    "    print (anything + anything) # Assigning values to numbers and adding them in loops"
   ]
  },
  {
   "cell_type": "code",
   "execution_count": 4,
   "id": "bbb03b6e-cef2-49e2-8262-992a246aa475",
   "metadata": {
    "tags": []
   },
   "outputs": [
    {
     "name": "stdout",
     "output_type": "stream",
     "text": [
      "Nisha Puri\n",
      "5\n",
      "['Vanilla', 'Chocolate', 'Milk Chocolate Cream']\n"
     ]
    }
   ],
   "source": [
    "# Dictionary\n",
    "\n",
    "ice_cream = { 'name': 'Nisha Puri', 'intake weekly': 5, 'fav ice_cream': ['Vanilla', 'Chocolate', 'Milk Chocolate Cream'] }\n",
    "for cream in ice_cream.values():    # call all values\n",
    "    print (cream)"
   ]
  },
  {
   "cell_type": "code",
   "execution_count": 5,
   "id": "a0f8f45f-d920-4833-bb14-a08310c50024",
   "metadata": {},
   "outputs": [
    {
     "name": "stdout",
     "output_type": "stream",
     "text": [
      "name\n",
      "intake weekly\n",
      "fav ice_cream\n"
     ]
    }
   ],
   "source": [
    "for key in ice_cream.keys ():\n",
    "    print (key)"
   ]
  },
  {
   "cell_type": "code",
   "execution_count": 6,
   "id": "d7553bd5-1a7c-4d3e-a8f2-9d9db1ac835c",
   "metadata": {
    "tags": []
   },
   "outputs": [
    {
     "name": "stdout",
     "output_type": "stream",
     "text": [
      "Nisha Puri\n",
      "5\n",
      "['Vanilla', 'Chocolate', 'Milk Chocolate Cream']\n"
     ]
    }
   ],
   "source": [
    "for value in ice_cream.values ():\n",
    "    print (value)"
   ]
  },
  {
   "cell_type": "code",
   "execution_count": 7,
   "id": "889d11dd-768d-4e1e-8ada-614a21e45d48",
   "metadata": {
    "tags": []
   },
   "outputs": [
    {
     "name": "stdout",
     "output_type": "stream",
     "text": [
      "name ->->->-> Nisha Puri\n",
      "intake weekly ->->->-> 5\n",
      "fav ice_cream ->->->-> ['Vanilla', 'Chocolate', 'Milk Chocolate Cream']\n"
     ]
    }
   ],
   "source": [
    "for key, value in ice_cream.items():\n",
    "    print (key, '->->->->', value)"
   ]
  },
  {
   "cell_type": "markdown",
   "id": "97d1effd-6e91-43e3-8d84-112da7127914",
   "metadata": {},
   "source": [
    "##### Nested For Loops"
   ]
  },
  {
   "cell_type": "code",
   "execution_count": 8,
   "id": "e230a613-4e97-42a7-9105-e92122f65706",
   "metadata": {},
   "outputs": [
    {
     "name": "stdout",
     "output_type": "stream",
     "text": [
      "Vanilla topped with Fudge Cake\n",
      "Vanilla topped with Oreos\n",
      "Vanilla topped with Marshmellows\n",
      "Chocolate topped with Fudge Cake\n",
      "Chocolate topped with Oreos\n",
      "Chocolate topped with Marshmellows\n",
      "Milk Chocolate Cream topped with Fudge Cake\n",
      "Milk Chocolate Cream topped with Oreos\n",
      "Milk Chocolate Cream topped with Marshmellows\n"
     ]
    }
   ],
   "source": [
    "flavours = [ 'Vanilla', 'Chocolate', 'Milk Chocolate Cream' ]\n",
    "toppings = [ 'Fudge Cake', 'Oreos', 'Marshmellows' ]\n",
    "\n",
    "#For Loops\n",
    "\n",
    "for first in flavours:\n",
    "    for second in toppings:\n",
    "        print (first, 'topped with', second)"
   ]
  },
  {
   "cell_type": "markdown",
   "id": "6b2ce6d9-6b07-4e7d-b29e-6f4fdf97d8ce",
   "metadata": {},
   "source": [
    "#### While Loop\n",
    "##### While only works for a test condition and ends after the condition no longer match, unlike for that iterates sequentially"
   ]
  },
  {
   "cell_type": "code",
   "execution_count": 9,
   "id": "7abd6005-36a1-40be-b38e-a1d015f839c9",
   "metadata": {
    "tags": []
   },
   "outputs": [
    {
     "name": "stdout",
     "output_type": "stream",
     "text": [
      "10\n",
      "11\n",
      "12\n",
      "13\n",
      "14\n",
      "15\n",
      "16\n",
      "17\n",
      "18\n",
      "19\n"
     ]
    }
   ],
   "source": [
    "digit = 10\n",
    "\n",
    "while digit < 20:\n",
    "    print (digit)\n",
    "    digit = digit + 1"
   ]
  },
  {
   "cell_type": "code",
   "execution_count": 10,
   "id": "9adc4249-eaf8-4ed3-969c-a95d351ab0eb",
   "metadata": {
    "tags": []
   },
   "outputs": [
    {
     "name": "stdout",
     "output_type": "stream",
     "text": [
      "10\n",
      "11\n",
      "12\n",
      "13\n",
      "14\n",
      "15\n"
     ]
    }
   ],
   "source": [
    "digit = 10   # Break stops the loop, but continues if the consdition is false\n",
    "\n",
    "while digit < 20:\n",
    "    print (digit)\n",
    "    if digit == 15:\n",
    "        break\n",
    "    digit = digit + 1"
   ]
  },
  {
   "cell_type": "code",
   "execution_count": 11,
   "id": "3f8d70da-258a-4872-9246-3184c5a91c95",
   "metadata": {
    "tags": []
   },
   "outputs": [
    {
     "name": "stdout",
     "output_type": "stream",
     "text": [
      "10\n",
      "11\n",
      "12\n",
      "13\n",
      "14\n",
      "15\n"
     ]
    }
   ],
   "source": [
    "digit2 = 10   # Break with elif\n",
    "while digit2 < 20:\n",
    "    print (digit2)\n",
    "    if digit2 == 15:\n",
    "        break\n",
    "    digit2 = digit2 + 1\n",
    "else:\n",
    "    print ('INVALID')\n",
    "    "
   ]
  },
  {
   "cell_type": "code",
   "execution_count": 12,
   "id": "f63e7e06-9027-47c1-b4bb-34d0f3529923",
   "metadata": {
    "tags": []
   },
   "outputs": [
    {
     "name": "stdout",
     "output_type": "stream",
     "text": [
      "11\n",
      "12\n",
      "13\n",
      "14\n",
      "16\n",
      "17\n",
      "18\n",
      "19\n",
      "20\n",
      "INVALID\n"
     ]
    }
   ],
   "source": [
    "digit2 = 10   # continue with elif, infinity, thus code shifted to the top\n",
    "while digit2 < 20:\n",
    "    digit2 = digit2 + 1\n",
    "    \n",
    "    if digit2 == 15:\n",
    "        continue\n",
    "    print (digit2)\n",
    "else:\n",
    "    print ('INVALID')\n",
    "    "
   ]
  },
  {
   "cell_type": "markdown",
   "id": "6b260200-e92c-4cd3-a427-993644bc3408",
   "metadata": {},
   "source": [
    "#### Functions"
   ]
  },
  {
   "cell_type": "code",
   "execution_count": 13,
   "id": "37acce2d-d162-4ee5-a28a-59d0f25837d3",
   "metadata": {
    "tags": []
   },
   "outputs": [
    {
     "name": "stdout",
     "output_type": "stream",
     "text": [
      "Nisha Puri\n"
     ]
    }
   ],
   "source": [
    "def example_func ():\n",
    "    print ('Nisha Puri')\n",
    "\n",
    "example_func ()"
   ]
  },
  {
   "cell_type": "code",
   "execution_count": 14,
   "id": "8fdf5675-7c9d-43bd-a1ff-58fb0ace7b66",
   "metadata": {
    "tags": []
   },
   "outputs": [
    {
     "name": "stdout",
     "output_type": "stream",
     "text": [
      "100\n"
     ]
    }
   ],
   "source": [
    "def squared_num (rand_num):\n",
    "    print (rand_num ** 2)\n",
    "\n",
    "squared_num (10)"
   ]
  },
  {
   "cell_type": "code",
   "execution_count": 15,
   "id": "5ee77af9-47a1-485b-9c9c-c6e6f369e8ba",
   "metadata": {
    "tags": []
   },
   "outputs": [
    {
     "name": "stdout",
     "output_type": "stream",
     "text": [
      "125\n"
     ]
    }
   ],
   "source": [
    "#Let the user enter the number and power desired\n",
    "def user_squared_num (user_num, power):\n",
    "    print (user_num ** power)\n",
    "    \n",
    "\n",
    "user_squared_num (5, 3)"
   ]
  },
  {
   "cell_type": "code",
   "execution_count": 16,
   "id": "bb8e0603-ac9e-4c49-ae0b-296507822e11",
   "metadata": {
    "tags": []
   },
   "outputs": [
    {
     "name": "stdout",
     "output_type": "stream",
     "text": [
      "2\n"
     ]
    }
   ],
   "source": [
    "def number_args (*args):   # Print object 0 and 1 multipled\n",
    "    print (args [0] * args [1])\n",
    "\n",
    "number_args (1,2,3,4,5)"
   ]
  },
  {
   "cell_type": "code",
   "execution_count": 17,
   "id": "799ef0fd-c93d-462b-b8f6-9d1f1de0cfda",
   "metadata": {
    "tags": []
   },
   "outputs": [
    {
     "name": "stdout",
     "output_type": "stream",
     "text": [
      "2\n"
     ]
    }
   ],
   "source": [
    "tuples = (1,2,3,4,5)\n",
    "\n",
    "def args_multi (*args):\n",
    "    print (args [0] * args [1])\n",
    "\n",
    "args_multi (*tuples)"
   ]
  },
  {
   "cell_type": "code",
   "execution_count": 18,
   "id": "811297a2-40af-4881-a42b-6b16c760738a",
   "metadata": {
    "tags": []
   },
   "outputs": [
    {
     "name": "stdout",
     "output_type": "stream",
     "text": [
      "My number is: 12345 ||||| & My other number is: 678910\n"
     ]
    }
   ],
   "source": [
    "def nsa_keyword_args (**numbers):\n",
    "    print ('My number is: ' + numbers ['integer'] + ' ||||| & My other number is: ' + numbers ['integer2'])\n",
    "    \n",
    "nsa_keyword_args (integer = '12345', integer2 = '678910')"
   ]
  },
  {
   "cell_type": "markdown",
   "id": "8d29b03c-24ba-406c-a33f-3971f7f37920",
   "metadata": {},
   "source": [
    "#### Converting Data types"
   ]
  },
  {
   "cell_type": "code",
   "execution_count": 19,
   "id": "a742bf7e-5960-451a-ac44-d40208fbbb64",
   "metadata": {
    "tags": []
   },
   "outputs": [
    {
     "name": "stdout",
     "output_type": "stream",
     "text": [
      "200\n"
     ]
    }
   ],
   "source": [
    "general = 100\n",
    "string = '100'\n",
    "addition = general + int(string)  #string converted to int\n",
    "print (addition)"
   ]
  },
  {
   "cell_type": "code",
   "execution_count": 20,
   "id": "9366bb0b-23b4-4b39-803e-87329782174b",
   "metadata": {
    "tags": []
   },
   "outputs": [
    {
     "name": "stdout",
     "output_type": "stream",
     "text": [
      "(1, 2, 3, 4, 5)\n"
     ]
    }
   ],
   "source": [
    "lists = [1,2,3,4,5]\n",
    "tupled = tuple (lists)\n",
    "print (tupled)"
   ]
  },
  {
   "cell_type": "code",
   "execution_count": 21,
   "id": "728f8080-8275-4359-bf62-fe392b4743bd",
   "metadata": {
    "tags": []
   },
   "outputs": [
    {
     "name": "stdout",
     "output_type": "stream",
     "text": [
      "{1, 2, 3, 4, 5, 7}\n"
     ]
    }
   ],
   "source": [
    "#Set only takes unique values and thus changes the values as well.\n",
    "listed = [1,2,3,4,5,2,5,2,1,7,4,5]\n",
    "set_listed = set (listed)\n",
    "print (set_listed)"
   ]
  },
  {
   "cell_type": "code",
   "execution_count": 22,
   "id": "7964e95f-aab4-420d-8b9c-251b46ed329a",
   "metadata": {
    "tags": []
   },
   "outputs": [
    {
     "name": "stdout",
     "output_type": "stream",
     "text": [
      "dict_items([('Name', 'Nisha Puri'), ('Age', 23), ('Relationship', 'Wife')])\n",
      "dict_keys(['Name', 'Age', 'Relationship'])\n",
      "dict_values(['Nisha Puri', 23, 'Wife'])\n"
     ]
    }
   ],
   "source": [
    "dict_var = { 'Name' :  'Nisha Puri', 'Age' : 23, 'Relationship' : 'Wife' }\n",
    "\n",
    "print (dict_var.items() )\n",
    "print (dict_var.keys () )\n",
    "print (dict_var.values () )"
   ]
  },
  {
   "cell_type": "code",
   "execution_count": 23,
   "id": "5187e98c-7564-4f36-9f35-b1bab08c2644",
   "metadata": {
    "tags": []
   },
   "outputs": [
    {
     "data": {
      "text/plain": [
       "['Name', 'Age', 'Relationship']"
      ]
     },
     "execution_count": 23,
     "metadata": {},
     "output_type": "execute_result"
    }
   ],
   "source": [
    "#convert keys to list\n",
    "list (dict_var.keys () )"
   ]
  },
  {
   "cell_type": "code",
   "execution_count": 24,
   "id": "91d4cec4-1365-422d-acfa-841441d22459",
   "metadata": {
    "tags": []
   },
   "outputs": [
    {
     "data": {
      "text/plain": [
       "{' ',\n",
       " '.',\n",
       " 'I',\n",
       " 'a',\n",
       " 'c',\n",
       " 'd',\n",
       " 'e',\n",
       " 'g',\n",
       " 'h',\n",
       " 'i',\n",
       " 'l',\n",
       " 'n',\n",
       " 'o',\n",
       " 'r',\n",
       " 't',\n",
       " 'v'}"
      ]
     },
     "execution_count": 24,
     "metadata": {},
     "output_type": "execute_result"
    }
   ],
   "source": [
    "# long strings\n",
    "long_strings = 'I love dancing in the rain.'\n",
    "set (long_strings)"
   ]
  },
  {
   "cell_type": "markdown",
   "id": "83e24aaa-3fab-4ffe-8f5c-d051d5d75a47",
   "metadata": {},
   "source": [
    "#### Building the BMI Calculator:"
   ]
  },
  {
   "cell_type": "code",
   "execution_count": 25,
   "id": "85227585-f1ea-4880-920b-55fd98623765",
   "metadata": {
    "tags": []
   },
   "outputs": [
    {
     "name": "stdin",
     "output_type": "stream",
     "text": [
      "Enter Name. Nisha\n",
      " Enter weight in pounds!  158\n",
      "Enter height in inches!  54\n"
     ]
    },
    {
     "name": "stdout",
     "output_type": "stream",
     "text": [
      "38.09122085048011\n",
      "Nisha,You are severely obese!\n"
     ]
    }
   ],
   "source": [
    " # INPUT FROM USER\n",
    "name = input ( 'Enter Name.' )\n",
    "    \n",
    "weight = int ( input (' Enter weight in pounds! '))\n",
    "\n",
    "height = int (input ('Enter height in inches! '))\n",
    "\n",
    "BMI = ( weight * 703 ) / ( height * height )\n",
    "print (BMI)\n",
    "if BMI > 0:\n",
    "    if ( BMI < 18.5 ):\n",
    "        print ( name +  ',You are underweight!' )\n",
    "    elif (BMI <= 24.9):\n",
    "        print ( name +  ',You are normal weight! ' )\n",
    "    elif (BMI < 34.9):\n",
    "        print ( name +  ',You are obese! ' )\n",
    "    elif (BMI < 39.9):\n",
    "        print ( name +  ',You are severely obese!' )\n",
    "    else:\n",
    "        print ( name +  ',You are too much obese!' )\n",
    "else:\n",
    "    print ('Invalid Input')"
   ]
  },
  {
   "cell_type": "markdown",
   "id": "5aa6142c-82fe-402b-9c99-fb6156f78b79",
   "metadata": {},
   "source": [
    "#### Automatic File Sorter"
   ]
  },
  {
   "cell_type": "code",
   "execution_count": 26,
   "id": "e5d5561d-ef43-40c9-947f-5dae2bdc2f65",
   "metadata": {},
   "outputs": [],
   "source": [
    "# Building an Automated File Sorter in File Explorer:"
   ]
  },
  {
   "cell_type": "code",
   "execution_count": 38,
   "id": "951e5ab6-7473-48b1-8aa5-7a14eea496e5",
   "metadata": {},
   "outputs": [],
   "source": [
    "import os, shutil       # os for OPErating System, shutil for file sorting"
   ]
  },
  {
   "cell_type": "code",
   "execution_count": 39,
   "id": "686e7440-129f-4904-8805-8ece1d10717c",
   "metadata": {},
   "outputs": [],
   "source": [
    "pathway = \"D:/FileSorterPythonExample/\"    #path of the directory to sort the folders, add r to the front to convert to raw string, if this doesnt work\n",
    "\n",
    "# backslashes changed to forward slashes /"
   ]
  },
  {
   "cell_type": "code",
   "execution_count": 40,
   "id": "6f216c3f-dd64-4aab-9fab-cc2e614622bc",
   "metadata": {},
   "outputs": [
    {
     "data": {
      "text/plain": [
       "'D:/FileSorterPythonExample/'"
      ]
     },
     "execution_count": 40,
     "metadata": {},
     "output_type": "execute_result"
    }
   ],
   "source": [
    "pathway"
   ]
  },
  {
   "cell_type": "code",
   "execution_count": 41,
   "id": "17443c64-69c0-474d-b0c8-a122b1b78131",
   "metadata": {},
   "outputs": [
    {
     "data": {
      "text/plain": [
       "['CSV Files', 'Excel Files', 'Image Files', 'Text Files', 'Word Files']"
      ]
     },
     "execution_count": 41,
     "metadata": {},
     "output_type": "execute_result"
    }
   ],
   "source": [
    "# check the directory files\n",
    "files = os.listdir (pathway)\n",
    "files"
   ]
  },
  {
   "cell_type": "code",
   "execution_count": 42,
   "id": "e45f3084-8625-4788-8435-e064722000f2",
   "metadata": {},
   "outputs": [],
   "source": [
    "#os.path.exists (pathway + 'csv files')        #hardcoding manually to check if folder csv files exists"
   ]
  },
  {
   "cell_type": "code",
   "execution_count": 43,
   "id": "3469bd3c-986a-4353-afeb-251005a9b6a9",
   "metadata": {},
   "outputs": [],
   "source": [
    "folder_names = [ 'Excel Files', 'CSV Files', 'Word Files', 'Image Files', 'Text Files' ]\n",
    "\n",
    "for loop in range (0,5):         # input till 1 more object from list\n",
    "   if not os.path.exists (pathway + folder_names [loop ] ):\n",
    "        os.makedirs ( pathway + folder_names [loop] )"
   ]
  },
  {
   "cell_type": "code",
   "execution_count": 44,
   "id": "06fbb6ee-44fd-46a5-8b90-c2a7d92e21cc",
   "metadata": {},
   "outputs": [],
   "source": [
    "# Now, check each file type to sort them to respective folders created.\n",
    "\n",
    "for file in files:\n",
    "    if \".csv\" in file and not os.path.exists (pathway + \"CSV Files/\" + file):\n",
    "        shutil.move (pathway + file , pathway + \"CSV Files/\" + file ) # specify original and new path\n",
    "    elif \".xlsx\" in file and not os.path.exists (pathway + \"Excel Files/\" + file):\n",
    "        shutil.move (pathway + file , pathway + \"Excel Files/\" + file )\n",
    "    elif \".docx\" in file and not os.path.exists (pathway + \"Word Files/\" + file):\n",
    "        shutil.move (pathway + file , pathway + \"Word Files/\" + file )\n",
    "    elif \".txt\" in file and not os.path.exists (pathway + \"Text Files/\" + file):\n",
    "        shutil.move (pathway + file , pathway + \"Text Files/\" + file )\n",
    "    elif \".png\" in file and not os.path.exists (pathway + \"Image Files/\" + file):\n",
    "        shutil.move (pathway + file , pathway + \"Image Files/\" + file )\n"
   ]
  },
  {
   "cell_type": "code",
   "execution_count": null,
   "id": "a6db9b31-73bc-4089-8f5c-109ffdde03d7",
   "metadata": {},
   "outputs": [],
   "source": []
  },
  {
   "cell_type": "code",
   "execution_count": null,
   "id": "4ae57d70-207e-4165-877f-038a1ba0e97f",
   "metadata": {},
   "outputs": [],
   "source": [
    " "
   ]
  },
  {
   "cell_type": "code",
   "execution_count": null,
   "id": "596b6451-4131-4bb1-adbc-9cdc389fee8f",
   "metadata": {},
   "outputs": [],
   "source": [
    "\n",
    "\n",
    "\n",
    "\n"
   ]
  }
 ],
 "metadata": {
  "kernelspec": {
   "display_name": "Python 3 (ipykernel)",
   "language": "python",
   "name": "python3"
  },
  "language_info": {
   "codemirror_mode": {
    "name": "ipython",
    "version": 3
   },
   "file_extension": ".py",
   "mimetype": "text/x-python",
   "name": "python",
   "nbconvert_exporter": "python",
   "pygments_lexer": "ipython3",
   "version": "3.9.0"
  }
 },
 "nbformat": 4,
 "nbformat_minor": 5
}
