{
 "cells": [
  {
   "cell_type": "markdown",
   "id": "e6063a16-0809-49b2-9ef5-b0a9d0b018ca",
   "metadata": {},
   "source": [
    "### AMAZON WEB SCRAPING:\n"
   ]
  },
  {
   "cell_type": "code",
   "execution_count": 1,
   "id": "5d3e57ef-0f9f-4367-b80c-671ef0302824",
   "metadata": {
    "tags": []
   },
   "outputs": [],
   "source": [
    "# Import Libraries\n",
    "\n",
    "from bs4 import BeautifulSoup\n",
    "import requests\n",
    "import datetime\n",
    "import time\n",
    "\n",
    "import smtplib\n",
    "\n",
    "import pandas as pd\n",
    "import csv\n"
   ]
  },
  {
   "cell_type": "markdown",
   "id": "9b722f74-97a0-436d-92be-19485cad22e7",
   "metadata": {},
   "source": [
    "##### Connect URL and extract data using URL, headers, page and BeatutifulSoup"
   ]
  },
  {
   "cell_type": "code",
   "execution_count": 2,
   "id": "e52fb8e2-150f-41ce-ba8b-a50078732c01",
   "metadata": {},
   "outputs": [
    {
     "name": "stdout",
     "output_type": "stream",
     "text": [
      "Title: \n",
      "                Ladies Belted Long Coat Womens Girls Winter Hooded Warm Jacket UK\n",
      "               \n",
      "Price: \n",
      "                  £21.99\n",
      "                 \n",
      "Rating: \n",
      "                    3.4 out of 5 stars\n",
      "                   \n",
      "\n",
      "               Brand: Generic\n",
      "              \n"
     ]
    }
   ],
   "source": [
    "# Connect to Website and extract data from Amazon\n",
    "\n",
    "URL = ' https://www.amazon.co.uk/Ladies-Winter-Coat-Black-Size/dp/B08KH4NGMM/ref=sr_1_5?crid=TUM9142G51HK&keywords=coat%2Bfor%2Bwomen&qid=1679713932&sprefix=coat%2Bfor%2B%2Caps%2C87&sr=8-5&th=1 '\n",
    "\n",
    "# Get headers from http://httpbin.org/get\n",
    "headers =  {\"User-Agent\": \t\"Mozilla/5.0 (Windows NT 10.0; Win64; x64; rv:109.0) Gecko/20100101 Firefox/111.0\" } \n",
    "\n",
    "page = requests.get (URL, headers = headers)\n",
    "\n",
    "Soup1 = BeautifulSoup (page.content, \"html.parser\")\n",
    "#print (Soup1)\n",
    "\n",
    "Soup2 = BeautifulSoup (Soup1.prettify (), \"html.parser\" )                         #make Soup1 html in better formatting\n",
    "#print (Soup2)\n",
    "\n",
    "title = Soup2.find (id = 'productTitle').get_text ()                               #specify the title of the product to extract from html as the id is mentioned\n",
    "\n",
    "#price_span = Soup2.find ('div', attrs = {'class' : 'a-offscreen'})\n",
    "#price = price_span.text                                                          #specify the price of the product to extract from html from class as span has no id\n",
    "#print (price_span)\n",
    "\n",
    "price = Soup2.find ('span', attrs = {'class' : 'a-offscreen'}).get_text ()        # specify span and attributes since span class is given for price\n",
    "rating = Soup2.find ('span', attrs = {'class' : 'a-icon-alt'}).get_text ()\n",
    "brand = Soup2.find (id = 'bylineInfo').get_text ()\n",
    "\n",
    "print ('Title: ' + title)\n",
    "print ('Price: ' + price)\n",
    "print ('Rating: ' + rating)\n",
    "print (brand)\n"
   ]
  },
  {
   "cell_type": "code",
   "execution_count": 3,
   "id": "4855e4cb-dc25-4b17-a120-20d6fc3cce5f",
   "metadata": {},
   "outputs": [
    {
     "name": "stdout",
     "output_type": "stream",
     "text": [
      "Title: Ladies Belted Long Coat Womens Girls Winter Hooded Warm Jacket UK\n",
      "Price: 21.99\n",
      "Rating: 3.4 out of 5 stars\n",
      "Brand: Generic\n"
     ]
    }
   ],
   "source": [
    "# Clean and strip the extracted data\n",
    "\n",
    "title = title.strip ()\n",
    "price = price.strip ()[1:]           # all after 1st object, so that only numeric value is extracted\n",
    "rating = rating.strip ()\n",
    "brand = brand.strip ()\n",
    "\n",
    "print ('Title: ' + title)\n",
    "print ('Price: ' + price)\n",
    "print ('Rating: ' + rating)\n",
    "print (brand)\n"
   ]
  },
  {
   "cell_type": "code",
   "execution_count": 4,
   "id": "47927351-73ae-4f69-a04d-462247a18574",
   "metadata": {},
   "outputs": [
    {
     "name": "stdout",
     "output_type": "stream",
     "text": [
      "2023-03-30\n"
     ]
    }
   ],
   "source": [
    "# Show the date of data extraction\n",
    "\n",
    "date_extracted = datetime.date.today ()\n",
    "print (date_extracted)"
   ]
  },
  {
   "cell_type": "markdown",
   "id": "883a2336-6122-4739-93ef-48bce732082c",
   "metadata": {},
   "source": [
    "##### Automate data to csv"
   ]
  },
  {
   "cell_type": "code",
   "execution_count": 5,
   "id": "d36cec95-45ac-4911-9489-5351446da405",
   "metadata": {},
   "outputs": [],
   "source": [
    "# Automate the data to extract to csv/excel \n",
    "\n",
    "header = ['Title', 'Price', 'Rating', 'Brand', 'Date']\n",
    "data = [title, price, rating, brand, date_extracted]\n",
    "#type(data)\n",
    "\n",
    "#with open ('AWS_Dataset_Women_Coat.csv', 'w', newline = '', encoding = 'UTF8') as fill:          #w is write\n",
    " #   writer = csv.writer (fill)\n",
    "  #  writer.writerow (header)\n",
    "   # writer.writerow (data)\n",
    "    \n",
    "    # COMMENTED SO THAT IT DOESN\"T DELETE DATA AND IS USED IN AUTOMATION LATER"
   ]
  },
  {
   "cell_type": "markdown",
   "id": "e581503d-590b-4af7-93c6-92e79b439697",
   "metadata": {},
   "source": [
    "##### Retrieve csv file using Pandas"
   ]
  },
  {
   "cell_type": "code",
   "execution_count": 6,
   "id": "f47f119d-c15b-43df-a777-9b1da56dc689",
   "metadata": {
    "tags": []
   },
   "outputs": [
    {
     "name": "stdout",
     "output_type": "stream",
     "text": [
      "                                               Title  Price  \\\n",
      "0  Ladies Belted Long Coat Womens Girls Winter Ho...  21.99   \n",
      "\n",
      "               Rating           Brand        Date  \n",
      "0  3.4 out of 5 stars  Brand: Generic  2023-03-30  \n"
     ]
    }
   ],
   "source": [
    "# Using Pandas, retrieve the csv\n",
    "\n",
    "csv_df = pd.read_csv ('C:\\DataAnalytics\\AWS_Dataset_Women_Coat.csv')\n",
    "\n",
    "print (csv_df)"
   ]
  },
  {
   "cell_type": "markdown",
   "id": "ba39a4e9-2f2f-47c8-aa13-a766f52db201",
   "metadata": {},
   "source": [
    "##### Append data to the extracted csv"
   ]
  },
  {
   "cell_type": "code",
   "execution_count": 7,
   "id": "fb94bc51-9d79-48dc-9f7f-0fd6ca76431b",
   "metadata": {},
   "outputs": [],
   "source": [
    "with open ('AWS_Dataset_Women_Coat.csv', 'a+', newline = '', encoding = 'UTF8') as fill:          #a+ is append\n",
    "    writer = csv.writer (fill)\n",
    "    writer.writerow (data)                                                                      #dont need header, as we only append data"
   ]
  },
  {
   "cell_type": "markdown",
   "id": "ec118dde-ef66-4aa2-bd21-0b62f51da51f",
   "metadata": {},
   "source": [
    "##### Automate whole process without having manual execution over time"
   ]
  },
  {
   "cell_type": "code",
   "execution_count": 14,
   "id": "ca8fbeee-687e-4d31-8f15-e7c1b4e760f2",
   "metadata": {},
   "outputs": [],
   "source": [
    "# Keep everything inside the fucntion now.\n",
    "\n",
    "def scrape_data ():\n",
    "    URL = ' https://www.amazon.co.uk/Ladies-Winter-Coat-Black-Size/dp/B08KH4NGMM/ref=sr_1_5?crid=TUM9142G51HK&keywords=coat%2Bfor%2Bwomen&qid=1679713932&sprefix=coat%2Bfor%2B%2Caps%2C87&sr=8-5&th=1 '\n",
    "\n",
    "    headers =  {\"User-Agent\": \t\"Mozilla/5.0 (Windows NT 10.0; Win64; x64; rv:109.0) Gecko/20100101 Firefox/111.0\" } \n",
    "\n",
    "    page = requests.get (URL, headers = headers)\n",
    "\n",
    "    Soup1 = BeautifulSoup (page.content, \"html.parser\")\n",
    "    Soup2 = BeautifulSoup (Soup1.prettify (), \"html.parser\" )                         \n",
    "\n",
    "    title = Soup2.find (id = 'productTitle').get_text ()                               \n",
    "    price = Soup2.find ('span', attrs = {'class' : 'a-offscreen'}).get_text ()     \n",
    "    rating = Soup2.find ('span', attrs = {'class' : 'a-icon-alt'}).get_text ()\n",
    "    brand = Soup2.find (id = 'bylineInfo').get_text ()\n",
    "    \n",
    "    title = title.strip ()\n",
    "    price = price.strip ()[1:]        \n",
    "    rating = rating.strip ()\n",
    "    brand = brand.strip ()\n",
    "    date_extracted = datetime.date.today ()\n",
    "    \n",
    "    header = ['Title', 'Price', 'Rating', 'Brand', 'Date']\n",
    "    data = [title, price, rating, brand, date_extracted]\n",
    "    \n",
    "    with open ('AWS_Dataset_Women_Coat.csv', 'w', newline = '', encoding = 'UTF8') as fill:          #w is write\n",
    "        writer = csv.writer (fill)\n",
    "        writer.writerow (header)\n",
    "        writer.writerow (data)\n",
    "        \n"
   ]
  },
  {
   "cell_type": "markdown",
   "id": "cc33894d-793a-4d63-b1a2-5fb8a987fb0b",
   "metadata": {},
   "source": [
    "##### Add Timer to run once every 12hr using time library"
   ]
  },
  {
   "cell_type": "code",
   "execution_count": null,
   "id": "c7b2adb6-f3ae-4c92-8901-410d8ad98f94",
   "metadata": {},
   "outputs": [],
   "source": [
    "\n",
    "#Run the csv in the set 12hr time\n",
    "while (True):\n",
    "    scrape_data ()\n",
    "    time.sleep (43200)\n",
    "\n",
    "csv_df = pd.read_csv ('C:\\DataAnalytics\\AWS_Dataset_Women_Coat.csv')\n",
    "print (csv_df)"
   ]
  },
  {
   "cell_type": "raw",
   "id": "e5f0798b-d001-4d9b-88b3-11a5a30d6eae",
   "metadata": {},
   "source": [
    "##### Email when the price hits the desired mark, for demostration price is <22"
   ]
  },
  {
   "cell_type": "raw",
   "id": "7cfa2ae0-f595-487a-aa4a-dcaa377cda11",
   "metadata": {
    "tags": []
   },
   "source": [
    "\n",
    "        \n",
    "def send_pricedrop_mail ():\n",
    "    mailServer = smtplib.SMTP_SSL ('smtp.gmail.com', 587)\n",
    "    mailServer.ehlo ()\n",
    "    mailServer.starttls ()\n",
    "    mailServer.ehlo ()\n",
    "    mailServer.login ('jyakhwa.sanjay0505@gmail.com', '###########')\n",
    "        \n",
    "    subject = \"The Women Coat for Nisha is under 22 pounds now!\"\n",
    "    body = 'Sanjay, pick up the coat now. Hurry!!!'\n",
    "        \n",
    "    msg = f\"Subject: {subject}\\n\\n{body}\"\n",
    "        \n",
    "    mailServer.send_pricedrop_mail (\n",
    "            'jyakhwa.sanjay0505@gmail.com',\n",
    "        msg\n",
    "    )"
   ]
  },
  {
   "cell_type": "code",
   "execution_count": null,
   "id": "ea074018-cb85-42f1-957f-2e4fa789daf9",
   "metadata": {},
   "outputs": [],
   "source": []
  }
 ],
 "metadata": {
  "kernelspec": {
   "display_name": "Python 3 (ipykernel)",
   "language": "python",
   "name": "python3"
  },
  "language_info": {
   "codemirror_mode": {
    "name": "ipython",
    "version": 3
   },
   "file_extension": ".py",
   "mimetype": "text/x-python",
   "name": "python",
   "nbconvert_exporter": "python",
   "pygments_lexer": "ipython3",
   "version": "3.9.0"
  }
 },
 "nbformat": 4,
 "nbformat_minor": 5
}
